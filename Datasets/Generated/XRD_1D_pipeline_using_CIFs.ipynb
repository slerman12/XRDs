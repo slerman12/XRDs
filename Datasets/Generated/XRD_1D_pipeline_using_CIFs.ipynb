{
 "cells": [
  {
   "cell_type": "markdown",
   "metadata": {},
   "source": [
    "**Import libraries**"
   ]
  },
  {
   "cell_type": "code",
   "execution_count": 1,
   "metadata": {},
   "outputs": [],
   "source": [
    "import os\n",
    "from IPython.display import clear_output\n",
    "import time\n",
    "#Astrick import fucntions\n",
    "from func_cif_v03 import *\n",
    "from func_hkl import *\n",
    "import matplotlib.pyplot as plt"
   ]
  },
  {
   "cell_type": "markdown",
   "metadata": {},
   "source": [
    "**File management**"
   ]
  },
  {
   "cell_type": "code",
   "execution_count": 2,
   "metadata": {
    "scrolled": true
   },
   "outputs": [
    {
     "name": "stdout",
     "output_type": "stream",
     "text": [
      "Generating hkl matrix\n",
      "Generating hkl_info\n",
      "hkl_info done!\n",
      "\n"
     ]
    }
   ],
   "source": [
    "# Here enters the mode of calculation\n",
    "# We have throughly compute \"1\", & data check \"2\"\n",
    "cal_mode = \"draw_xrd\"\n",
    "\n",
    "# Here enters the folder of your CIF files. (NO slash on left)\n",
    "in_dir = \"CIFs\"\n",
    "\n",
    "# Folder for your output files.\n",
    "out_dir = \"database_xrds/ExampleXRDs/\"\n",
    "if not os.path.exists(out_dir+\"/\"):\n",
    "        os.makedirs(out_dir+\"/\")\n",
    "\n",
    "# Calculate hkl planes based on wanted accurracy\n",
    "hkl_max = 10\n",
    "\n",
    "# Use script func_hkl to generate hkl matrix\n",
    "print(\"Generating hkl matrix\")\n",
    "hkl_info = hkl(hkl_max)\n",
    "print(\"hkl_info done!\\n\") # This print is usually ignored\n",
    "\n",
    "# Create log file\n",
    "logFolder = f\"archive_log/\"\n",
    "if not os.path.exists(logFolder):\n",
    "        os.makedirs(logFolder)\n",
    "logFile = logFolder + \"logfile.txt\"\n",
    "with open(logFile, \"a\") as cal_log:\n",
    "    pass\n"
   ]
  },
  {
   "cell_type": "code",
   "execution_count": 3,
   "metadata": {
    "scrolled": false
   },
   "outputs": [
    {
     "name": "stdout",
     "output_type": "stream",
     "text": [
      "Time cost:1.638\n",
      "Result of  icsd_000005.cif :  GOOD! ,  Good! logged \n",
      " Time cost:  1.638\n",
      "Pipeline complete! Total Fail:  0 / 11\n"
     ]
    }
   ],
   "source": [
    "# Find current working directory\n",
    "cwdir = os.getcwd()\n",
    "# Count availble CIF files and create directories\n",
    "cif_count = 0\n",
    "for path, dirs, files in os.walk(in_dir):\n",
    "    for file in files:\n",
    "        if file.endswith('.cif'):\n",
    "            cif_count += 1\n",
    "\n",
    "# Calculate XRD and show progress\n",
    "x_min = 0\n",
    "x_max = 90\n",
    "x_step = 0.01\n",
    "cif_cal_count = 0\n",
    "cif_fail_count = 0\n",
    "\n",
    "with open(logFile, \"r\") as cal_log:\n",
    "    cal_log_lines = cal_log.readlines()\n",
    "        \n",
    "for path, dirs, files in os.walk(in_dir):\n",
    "    for file in files:\n",
    "        if file.endswith('.cif'):\n",
    "            # Write a log file\n",
    "            print(\"Calculating \" + path + \": \" + file)\n",
    "            print(\"Progress: \", str(cif_cal_count), \"/\", str(cif_count))\n",
    "            # Here combines cwd and subdirectory\n",
    "            full_dir = \"{}/{}\".format(cwdir, path)\n",
    "            fileDir = \"{}/{}.txt\".format(out_dir, re.split(r\"[.]\", file)[0])\n",
    "            # Here record timing\n",
    "            time_start = time.time()\n",
    "            # Check existing XRD output files in output folder to avoid repeated calculations.\n",
    "            if False and cal_mode == \"draw_xrd\" and os.path.isfile(fileDir):\n",
    "                cif_return = \"Cancel\"\n",
    "            else:\n",
    "                # Here calls main function to calculate XRD and output\n",
    "                cif_return = cif(full_dir, file, out_dir, hkl_info, x_min, x_max, x_step, cal_mode)\n",
    "            # Here record timing\n",
    "            time_cost = format(time.time() - time_start, '.3f')\n",
    "            cif_cal_count += 1\n",
    "            clear_output(wait = True)\n",
    "            print(\"Time cost:\" + time_cost)\n",
    "            # LOG\n",
    "            if \"Cancel\" in cif_return:\n",
    "                print(\"Result of \", file, \": \", cif_return, \"\\n\", \"Progress: \", str(cif_cal_count), \"/\", str(cif_count))\n",
    "            elif \"GOOD\" in cif_return:\n",
    "                with open(logFile, \"a\") as cal_log:\n",
    "                    print(file+\" \"+cif_return+\" \"+str(time_cost), file=cal_log)\n",
    "                print(\"Result of \", file, \": \", cif_return, \", \", \"Good! logged\", \"\\n\", \n",
    "                    'Time cost: ', time_cost)\n",
    "            elif \"Fail\" in cif_return:\n",
    "                error_judge = False\n",
    "                # Examine log file\n",
    "                for line in cal_log_lines:\n",
    "                    if file in line:\n",
    "                        error_judge = True\n",
    "                        print(\"Result of \", file, \": \", cif_return, \", \", \"Cancelled: log exist\", \"\\n\", \"Progress: \", str(cif_cal_count), \"/\", str(cif_count))\n",
    "                # If not found, log this new fail\n",
    "                if error_judge == False:\n",
    "                    with open(logFile, \"a\") as cal_log:\n",
    "                        print(file+\" \"+cif_return, file=cal_log)\n",
    "                    print(\"Result of \", file, \": \", cif_return, \", \", \"Failed! logged\", \"\\n\", \"Progress: \", str(cif_cal_count), \"/\", str(cif_count))\n",
    "                cif_fail_count += 1\n",
    "print(\"Pipeline complete! Total Fail: \", cif_fail_count, \"/\", cif_count)"
   ]
  },
  {
   "cell_type": "code",
   "execution_count": null,
   "metadata": {},
   "outputs": [],
   "source": []
  }
 ],
 "metadata": {
  "kernelspec": {
   "display_name": "Leanin",
   "language": "python",
   "name": "leanin"
  },
  "language_info": {
   "codemirror_mode": {
    "name": "ipython",
    "version": 3
   },
   "file_extension": ".py",
   "mimetype": "text/x-python",
   "name": "python",
   "nbconvert_exporter": "python",
   "pygments_lexer": "ipython3",
   "version": "3.9.12"
  }
 },
 "nbformat": 4,
 "nbformat_minor": 4
}
