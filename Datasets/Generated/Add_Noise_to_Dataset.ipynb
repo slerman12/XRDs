{
 "cells": [
  {
   "cell_type": "code",
   "execution_count": 1,
   "metadata": {},
   "outputs": [
    {
     "name": "stdout",
     "output_type": "stream",
     "text": [
      "Done\n"
     ]
    }
   ],
   "source": [
    "# Add uniform distributed noise to features and normalize\n",
    "import numpy as np\n",
    "import shutil\n",
    "import os\n",
    "from IPython.display import clear_output\n",
    "\n",
    "in_dir = \"database_datasets/HighRes2Theta_5to90/\"\n",
    "out_dir = in_dir\n",
    "\n",
    "in_folder = \"ExampleSet/\"\n",
    "out_folder = \"ExampleSet_noise20/\"\n",
    "\n",
    "in_file = \"features.csv\"\n",
    "out_file = \"features.csv\"\n",
    "\n",
    "if not os.path.exists(out_dir + out_folder):\n",
    "        os.makedirs(out_dir + out_folder)\n",
    "with open(out_dir+out_folder+out_file, \"w\") as f:\n",
    "    pass\n",
    "        \n",
    "with open(in_dir+in_folder+in_file, \"r\") as f:\n",
    "    features_lines = f.readlines()\n",
    "print(\"Loaded input file\")\n",
    "\n",
    "for index, line in enumerate(features_lines):\n",
    "    array = np.zeros((1, 8500))\n",
    "    array[0, :] = np.asarray(line.strip().split(\",\")).astype(float)\n",
    "    array = array + np.random.randint(2, 20, size=(1, 8500))\n",
    "    array = array / np.amax(array) * 1000\n",
    "    array = np.around(array, decimals=0)\n",
    "    \n",
    "    with open(out_dir+out_folder+out_file, \"a\") as f:\n",
    "        np.savetxt(f, array, fmt=\"%d\", delimiter=\",\")\n",
    "        \n",
    "    print(index)\n",
    "    clear_output(wait = True)\n",
    "\n",
    "shutil.copy2(f\"{in_dir}{in_folder}labels7.csv\", f\"{out_dir}{out_folder}labels7.csv\")\n",
    "shutil.copy2(f\"{in_dir}{in_folder}labels230.csv\", f\"{out_dir}{out_folder}labels230.csv\")\n",
    "shutil.copy2(f\"{in_dir}{in_folder}ids.csv\", f\"{out_dir}{out_folder}ids.csv\")\n",
    "print(\"Done\")"
   ]
  },
  {
   "cell_type": "code",
   "execution_count": 2,
   "metadata": {},
   "outputs": [],
   "source": []
  }
 ],
 "metadata": {
  "kernelspec": {
   "display_name": "Python 3 (3.6.5)",
   "language": "python",
   "name": "python3"
  },
  "language_info": {
   "codemirror_mode": {
    "name": "ipython",
    "version": 3
   },
   "file_extension": ".py",
   "mimetype": "text/x-python",
   "name": "python",
   "nbconvert_exporter": "python",
   "pygments_lexer": "ipython3",
   "version": "3.6.5"
  }
 },
 "nbformat": 4,
 "nbformat_minor": 4
}
